{
 "cells": [
  {
   "cell_type": "markdown",
   "metadata": {},
   "source": [
    "# Sprint 8, Task 1\n",
    "\n",
    "## Level 1\n",
    "\n",
    "### Exercise 1\n",
    "\n",
    "Take a sports dataset you like and select an attribute. Calculate the p-value and check if it rejects the null hypothesis with an alpha of 5%:"
   ]
  },
  {
   "cell_type": "code",
   "execution_count": 1,
   "metadata": {
    "ExecuteTime": {
     "end_time": "2021-10-15T12:47:59.522118Z",
     "start_time": "2021-10-15T12:47:57.452730Z"
    }
   },
   "outputs": [],
   "source": [
    "import sqlite3\n",
    "import pandas as pd\n",
    "\n",
    "from scipy.stats import spearmanr\n",
    "from scipy.stats import normaltest\n",
    "from scipy.stats import kruskal\n",
    "from matplotlib import pyplot as plt"
   ]
  },
  {
   "cell_type": "code",
   "execution_count": 2,
   "metadata": {
    "ExecuteTime": {
     "end_time": "2021-10-15T12:47:59.533270Z",
     "start_time": "2021-10-15T12:47:59.525241Z"
    }
   },
   "outputs": [],
   "source": [
    "\n",
    "sql = \"\"\"\n",
    "SELECT finishing, heading_accuracy, volleys, free_kick_accuracy, shot_power, long_shots, penalties\n",
    "FROM PLAYER_ATTRIBUTES\n",
    "\"\"\"\n",
    "\n",
    "con = sqlite3.connect(\"database.sqlite\")"
   ]
  },
  {
   "cell_type": "code",
   "execution_count": 3,
   "metadata": {
    "ExecuteTime": {
     "end_time": "2021-10-15T12:48:01.095760Z",
     "start_time": "2021-10-15T12:47:59.539069Z"
    }
   },
   "outputs": [],
   "source": [
    "attributes = pd.read_sql_query(sql, con)\n",
    "\n",
    "attributes.dropna(inplace = True)"
   ]
  },
  {
   "cell_type": "code",
   "execution_count": 4,
   "metadata": {
    "ExecuteTime": {
     "end_time": "2021-10-15T12:48:01.114498Z",
     "start_time": "2021-10-15T12:48:01.099217Z"
    }
   },
   "outputs": [
    {
     "name": "stdout",
     "output_type": "stream",
     "text": [
      "The p-value is: 0.0\n",
      "Since it is smaller than the alpha level (0.05), we reject the null hypothesis. In the case of the\n",
      "      D’Agostino K^2 test implies that the data distribution is not normal\n"
     ]
    }
   ],
   "source": [
    "# With this test we test for normal distribution in finishing score data \n",
    "\n",
    "stat, p = normaltest(attributes[\"finishing\"])\n",
    "\n",
    "print(f\"The p-value is: {p}\")\n",
    "print(\"\"\"Since it is smaller than the alpha level (0.05), we reject the null hypothesis. In the case of the\n",
    "      D’Agostino K^2 test implies that the data distribution is not normal\"\"\")"
   ]
  },
  {
   "cell_type": "code",
   "execution_count": 5,
   "metadata": {
    "ExecuteTime": {
     "end_time": "2021-10-15T12:48:01.390089Z",
     "start_time": "2021-10-15T12:48:01.117354Z"
    }
   },
   "outputs": [
    {
     "data": {
      "text/plain": [
       "(array([ 2054.,  9470., 23726., 21473., 22219., 29002., 41273., 24212.,\n",
       "         7139.,   697.]),\n",
       " array([ 1. , 10.6, 20.2, 29.8, 39.4, 49. , 58.6, 68.2, 77.8, 87.4, 97. ]),\n",
       " <BarContainer object of 10 artists>)"
      ]
     },
     "execution_count": 5,
     "metadata": {},
     "output_type": "execute_result"
    },
    {
     "data": {
      "image/png": "[encoded data removed]",
      "text/plain": [
       "<Figure size 432x288 with 1 Axes>"
      ]
     },
     "metadata": {
      "needs_background": "light"
     },
     "output_type": "display_data"
    }
   ],
   "source": [
    "# Visual demonstration of non-normal distribution:\n",
    "\n",
    "plt.hist(attributes[\"finishing\"])"
   ]
  },
  {
   "cell_type": "markdown",
   "metadata": {},
   "source": [
    "## Level 2\n",
    "\n",
    "### Exercise 2\n",
    "\n",
    "Continue with the same dataset and select two attributes. Calculate the p-value and check if it rejects the null hypothesis with an alpha of 5%:\n"
   ]
  },
  {
   "cell_type": "code",
   "execution_count": 6,
   "metadata": {
    "ExecuteTime": {
     "end_time": "2021-10-15T12:48:01.478134Z",
     "start_time": "2021-10-15T12:48:01.393952Z"
    }
   },
   "outputs": [
    {
     "name": "stdout",
     "output_type": "stream",
     "text": [
      "The p-value is: 0.0\n",
      "\n",
      "Since it is smaller than the alpha level (0.05), we reject the null hypothesis. In the case of Spearman it implies\n",
      "that a correlation between the two elements is quite likely\n",
      "Specifically, the correlation is 0.8368909900705522, which implies a strong, positive correlation.\n"
     ]
    }
   ],
   "source": [
    "# Calculate Spearman rho\n",
    "\n",
    "stat, p = spearmanr(attributes[\"finishing\"], attributes[\"volleys\"])\n",
    "\n",
    "print(f\"The p-value is: {p}\")\n",
    "\n",
    "print(\"\"\"\n",
    "Since it is smaller than the alpha level (0.05), we reject the null hypothesis. In the case of Spearman it implies\n",
    "that a correlation between the two elements is quite likely\"\"\")\n",
    "\n",
    "print(f\"Specifically, the correlation is {stat}, which implies a strong, positive correlation.\")\n"
   ]
  },
  {
   "cell_type": "markdown",
   "metadata": {},
   "source": [
    "## Level 3\n",
    "\n",
    "### Exercise 3\n",
    "\n",
    "Continue with the same dataset and select three attributes. Calculate the p-value and check if it rejects the null hypothesis with an alpha of 5%:"
   ]
  },
  {
   "cell_type": "code",
   "execution_count": 7,
   "metadata": {
    "ExecuteTime": {
     "end_time": "2021-10-15T12:48:01.654568Z",
     "start_time": "2021-10-15T12:48:01.482554Z"
    }
   },
   "outputs": [
    {
     "name": "stdout",
     "output_type": "stream",
     "text": [
      "The p-value is: 5.864570183546127e-48\n",
      "\n",
      "Since it is smaller than the alpha level (0.05), we reject the null hypothesis.  In the case of the Kruskal-Wallis\n",
      "H test it implies that the three samples have different distributions with a high degree of certainty\n"
     ]
    }
   ],
   "source": [
    "# For the 3 variables analysis I would have liked to analyse whether the means of different attributes are \n",
    "# significantly better through an ANOVA analysis. However, the variables in this dataset are not normally \n",
    "# distributed. Hence, a Kruskal-Wallis H test will prove more useful, since it will compare the distribution of \n",
    "# more than one sample\n",
    "\n",
    "\n",
    "stat, p = kruskal(attributes[\"finishing\"], attributes[\"volleys\"], attributes[\"free_kick_accuracy\"])\n",
    "\n",
    "print(f\"The p-value is: {p}\")\n",
    "\n",
    "print(\"\"\"\n",
    "Since it is smaller than the alpha level (0.05), we reject the null hypothesis.  In the case of the Kruskal-Wallis\n",
    "H test it implies that the three samples have different distributions with a high degree of certainty\"\"\")\n"
   ]
  }
 ],
 "metadata": {
  "kernelspec": {
   "display_name": "Python 3",
   "language": "python",
   "name": "python3"
  },
  "language_info": {
   "codemirror_mode": {
    "name": "ipython",
    "version": 3
   },
   "file_extension": ".py",
   "mimetype": "text/x-python",
   "name": "python",
   "nbconvert_exporter": "python",
   "pygments_lexer": "ipython3",
   "version": "3.8.8"
  },
  "varInspector": {
   "cols": {
    "lenName": 16,
    "lenType": 16,
    "lenVar": 40
   },
   "kernels_config": {
    "python": {
     "delete_cmd_postfix": "",
     "delete_cmd_prefix": "del ",
     "library": "var_list.py",
     "varRefreshCmd": "print(var_dic_list())"
    },
    "r": {
     "delete_cmd_postfix": ") ",
     "delete_cmd_prefix": "rm(",
     "library": "var_list.r",
     "varRefreshCmd": "cat(var_dic_list()) "
    }
   },
   "types_to_exclude": [
    "module",
    "function",
    "builtin_function_or_method",
    "instance",
    "_Feature"
   ],
   "window_display": false
  }
 },
 "nbformat": 4,
 "nbformat_minor": 4
}
